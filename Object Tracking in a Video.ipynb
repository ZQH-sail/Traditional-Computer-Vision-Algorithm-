{
 "cells": [
  {
   "cell_type": "code",
   "execution_count": 1,
   "metadata": {},
   "outputs": [],
   "source": [
    "import cv2"
   ]
  },
  {
   "cell_type": "code",
   "execution_count": 2,
   "metadata": {},
   "outputs": [
    {
     "data": {
      "text/plain": [
       "'4.1.0'"
      ]
     },
     "execution_count": 2,
     "metadata": {},
     "output_type": "execute_result"
    }
   ],
   "source": [
    "cv2.__version__"
   ]
  },
  {
   "cell_type": "code",
   "execution_count": 3,
   "metadata": {},
   "outputs": [],
   "source": [
    "import cv2 \n",
    "import matplotlib.pyplot as plt\n",
    "import numpy as np "
   ]
  },
  {
   "cell_type": "code",
   "execution_count": 4,
   "metadata": {},
   "outputs": [],
   "source": [
    "tracker = cv2.TrackerBoosting_create()\n",
    "tracker_type = 'Boosting'"
   ]
  },
  {
   "cell_type": "code",
   "execution_count": 5,
   "metadata": {},
   "outputs": [],
   "source": [
    "video = cv2.VideoCapture('car_moving.mp4')\n",
    "if not video.isOpened():\n",
    "    print(\"Could not open Video File \")"
   ]
  },
  {
   "cell_type": "code",
   "execution_count": 6,
   "metadata": {},
   "outputs": [],
   "source": [
    "ok, frame = video.read()\n",
    "if not ok: \n",
    "    print(\"Cannot read video file \\n\")"
   ]
  },
  {
   "cell_type": "code",
   "execution_count": 7,
   "metadata": {
    "scrolled": true
   },
   "outputs": [
    {
     "data": {
      "text/plain": [
       "(720, 1280, 3)"
      ]
     },
     "execution_count": 7,
     "metadata": {},
     "output_type": "execute_result"
    }
   ],
   "source": [
    "# Exploring Frames\n",
    "type(frame)\n",
    "np.shape(frame)\n",
    "#print(ok)"
   ]
  },
  {
   "cell_type": "code",
   "execution_count": 8,
   "metadata": {},
   "outputs": [
    {
     "name": "stdout",
     "output_type": "stream",
     "text": [
      "(363, 168, 874, 522)\n"
     ]
    }
   ],
   "source": [
    "bbox = cv2.selectROI(frame)\n",
    "print(bbox)"
   ]
  },
  {
   "cell_type": "code",
   "execution_count": 10,
   "metadata": {},
   "outputs": [],
   "source": [
    "while True:\n",
    "    ok, frame = video.read()\n",
    "    if not ok:\n",
    "        break\n",
    "    \n",
    "    # Start the timer\n",
    "    timer = cv2.getTickCount()\n",
    "    \n",
    "    # Update the tracker\n",
    "    ok, bbox = tracker.update(frame)\n",
    "    \n",
    "    # Calculating the Frames per Second\n",
    "    fps = cv2.getTickFrequency()/cv2.getTickCount() - timer\n",
    "    \n",
    "    # Drawing a bounding box:\n",
    "    if ok:\n",
    "        # Tracking success\n",
    "        print(ok)\n",
    "        p1 = (int(bbox[0]),int(bbox[1]))\n",
    "        p2 = (int(bbox[0]+bbox[2]),int(bbox[1]+bbox[3]))\n",
    "        cv2.rectangle(frame, p1, p2, (255,0,0))\n",
    "    \n",
    "    else:\n",
    "        cv2.putText(frame, tracker_type + \"Tracker\", (100,80),\n",
    "                    cv2.FONT_HERSHEY_SIMPLEX, 0.75,(0,0,255),2)\n",
    "    \n",
    "    \n",
    "    cv2.imshow(\"Tracking\", frame)\n",
    "    \n",
    "    k = cv2.waitKey(1) & 0xff\n",
    "    if k == 27:\n",
    "        break\n",
    "        "
   ]
  },
  {
   "cell_type": "code",
   "execution_count": null,
   "metadata": {},
   "outputs": [],
   "source": []
  }
 ],
 "metadata": {
  "kernelspec": {
   "display_name": "Python 3",
   "language": "python",
   "name": "python3"
  },
  "language_info": {
   "codemirror_mode": {
    "name": "ipython",
    "version": 3
   },
   "file_extension": ".py",
   "mimetype": "text/x-python",
   "name": "python",
   "nbconvert_exporter": "python",
   "pygments_lexer": "ipython3",
   "version": "3.6.8"
  }
 },
 "nbformat": 4,
 "nbformat_minor": 2
}
