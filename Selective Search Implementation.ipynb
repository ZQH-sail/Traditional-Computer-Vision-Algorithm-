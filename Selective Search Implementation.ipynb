{
 "cells": [
  {
   "cell_type": "markdown",
   "metadata": {},
   "source": [
    "Selective Search is a Region proposal Algorithm which can be used to generate good proposals. It is based on computing hierarchical grouping of similar regions on the basis of color, texture, size and shape compatibility.\n",
    "\n",
    "It Starts by over-segmenting the image based on intensity of the pixels using a graph-based segmentation method, (Superpixel Generations) \n",
    "\n",
    "Than it draws bounding boxes across those over-segmentation and performs bottem up hierarachical clustering on the objects on the basis of the above mentioned compatibility criterions."
   ]
  },
  {
   "cell_type": "code",
   "execution_count": 7,
   "metadata": {},
   "outputs": [],
   "source": [
    "############################################################################################\n",
    "######################## Importing the important packages  #################################\n",
    "############################################################################################\n",
    "\n",
    "import sys\n",
    "import cv2"
   ]
  },
  {
   "cell_type": "markdown",
   "metadata": {},
   "source": [
    "This code will take some command line inputs from the user while running, in total 3 inputs will be taken, which in sequential order are: \n",
    "a) Input Image.\n",
    "b) The user require quality output or fast output. (f or q) \n",
    "c) Aur he require more rectangles or less rectangels, or he would like to quit. (l,m or q)"
   ]
  },
  {
   "cell_type": "code",
   "execution_count": 21,
   "metadata": {
    "scrolled": false
   },
   "outputs": [
    {
     "name": "stdout",
     "output_type": "stream",
     "text": [
      "Enter the Path of the image to be used \n",
      "traffic.jpeg\n",
      "Enter 'f' or 'q' for fast or quality output respectively \n",
      "f\n"
     ]
    }
   ],
   "source": [
    "path = input(\"Enter the Path of the image to be used \\n\")\n",
    "f_or_q = input(\"Enter 'f' or 'q' for fast or quality output respectively \\n\")"
   ]
  },
  {
   "cell_type": "code",
   "execution_count": 23,
   "metadata": {},
   "outputs": [
    {
     "name": "stdout",
     "output_type": "stream",
     "text": [
      "[[[132 157 143]\n",
      "  [129 154 140]\n",
      "  [125 148 134]\n",
      "  ...\n",
      "  [ 38  48  42]\n",
      "  [ 41  51  45]\n",
      "  [ 26  36  30]]\n",
      "\n",
      " [[ 90 115 101]\n",
      "  [120 145 131]\n",
      "  [117 140 126]\n",
      "  ...\n",
      "  [ 25  35  29]\n",
      "  [ 25  35  29]\n",
      "  [  8  18  12]]\n",
      "\n",
      " [[ 81 105  93]\n",
      "  [113 137 125]\n",
      "  [131 153 141]\n",
      "  ...\n",
      "  [ 74  84  78]\n",
      "  [ 66  76  70]\n",
      "  [ 39  49  43]]\n",
      "\n",
      " ...\n",
      "\n",
      " [[230 204 180]\n",
      "  [255 246 222]\n",
      "  [255 250 225]\n",
      "  ...\n",
      "  [109  91  90]\n",
      "  [108  90  89]\n",
      "  [106  88  87]]\n",
      "\n",
      " [[240 219 192]\n",
      "  [255 234 207]\n",
      "  [255 243 216]\n",
      "  ...\n",
      "  [118  99  94]\n",
      "  [118  99  94]\n",
      "  [118  99  94]]\n",
      "\n",
      " [[240 219 192]\n",
      "  [255 234 207]\n",
      "  [255 243 216]\n",
      "  ...\n",
      "  [118  99  94]\n",
      "  [118  99  94]\n",
      "  [118  99  94]]]\n"
     ]
    },
    {
     "ename": "AttributeError",
     "evalue": "module 'cv2.ximgproc.segmentation' has no attribute 'createselectivesearchsegmentation'",
     "output_type": "error",
     "traceback": [
      "\u001b[0;31m---------------------------------------------------------------------------\u001b[0m",
      "\u001b[0;31mAttributeError\u001b[0m                            Traceback (most recent call last)",
      "\u001b[0;32m<ipython-input-23-d33929a8e7e5>\u001b[0m in \u001b[0;36m<module>\u001b[0;34m\u001b[0m\n\u001b[1;32m     13\u001b[0m \u001b[0;34m\u001b[0m\u001b[0m\n\u001b[1;32m     14\u001b[0m \u001b[0;31m# create Selective Search Segmentation Object using default parameters\u001b[0m\u001b[0;34m\u001b[0m\u001b[0;34m\u001b[0m\u001b[0;34m\u001b[0m\u001b[0m\n\u001b[0;32m---> 15\u001b[0;31m \u001b[0mss\u001b[0m \u001b[0;34m=\u001b[0m \u001b[0mcv2\u001b[0m\u001b[0;34m.\u001b[0m\u001b[0mximgproc\u001b[0m\u001b[0;34m.\u001b[0m\u001b[0msegmentation\u001b[0m\u001b[0;34m.\u001b[0m\u001b[0mcreateselectivesearchsegmentation\u001b[0m\u001b[0;34m(\u001b[0m\u001b[0;34m)\u001b[0m\u001b[0;34m\u001b[0m\u001b[0;34m\u001b[0m\u001b[0m\n\u001b[0m\u001b[1;32m     16\u001b[0m \u001b[0;34m\u001b[0m\u001b[0m\n\u001b[1;32m     17\u001b[0m \u001b[0;31m# Set the input image on which we will run segmentation\u001b[0m\u001b[0;34m\u001b[0m\u001b[0;34m\u001b[0m\u001b[0;34m\u001b[0m\u001b[0m\n",
      "\u001b[0;31mAttributeError\u001b[0m: module 'cv2.ximgproc.segmentation' has no attribute 'createselectivesearchsegmentation'"
     ]
    }
   ],
   "source": [
    "# Speed up the process using multi thread\n",
    "\n",
    "cv2.setUseOptimized(True)\n",
    "cv2.setNumThreads(4)\n",
    "\n",
    "# Reading and Resizing of the image.\n",
    "\n",
    "im = cv2.imread(path)\n",
    "print(im)\n",
    "newHeight = 200\n",
    "newWidth = int(im.shape[1]*200/im.shape[0])\n",
    "im = cv2.resize(im, (newWidth, newHeight))\\\n",
    "\n",
    "# create Selective Search Segmentation Object using default parameters\n",
    "ss = cv2.ximgproc.segmentation.createSelectiveSearchSegmentation()\n",
    "\n",
    "# Set the input image on which we will run segmentation\n",
    "ss.setBaseImage(im)\n",
    "\n",
    "# Switch to fast but low recall Selective Search Method\n",
    "if f_or_q == f:\n",
    "    ss.switchToSelectiveSearchFast()\n",
    "    \n",
    "# Switch to high recall but slow Selective Search Method\n",
    "if f_or_q == q:\n",
    "    ss.switchToSelectiveSearchQuality()\n",
    "    \n",
    "# run selective search segmentation on input image\n",
    "rects = ss.process()\n",
    "print(\"Total Number of Region Proposals: {}\".format(len(rects)))\n",
    "\n",
    "# number of region proposals to show\n",
    "numShowRects = 100\n",
    "# increment to increase or decrease the total number region proposals to be shown\n",
    "increment = 50\n",
    "\n",
    "while True:\n",
    "    # Create a copy of the original image in order to show the rectangles on it.\n",
    "    imOut = im.copy()\n",
    "    \n",
    "    # iterate over all the region proposals\n",
    "    for i, rect in enumerate(rects):\n",
    "        # draw rectangle for region proposal till numShowRects\n",
    "        if(i < numShowRects):\n",
    "            x, y, w, h = rect\n",
    "            cv2.rectangle(imOut,(x,y),(x+w, y+h), (0, 255, 0),1,cv2.LINE_AA)\n",
    "        else:\n",
    "            break\n",
    "    # show output\n",
    "    cv2.imshow(\"Output\", imOut)\n",
    "    \n",
    "    # record key press\n",
    "    key = input(\"For more rectangles, press 'm', For less rectangles press 'l', For quiting press 'q' \\n\")\n",
    "    \n",
    "    if key == 109:\n",
    "        # Increase the total number of rectangles by increment\n",
    "        numShowRects += increment\n",
    "    \n",
    "    if key == 108:\n",
    "        # Decrease the total number of rectangles by decrement\n",
    "        numShowRects += increment\n",
    "        \n",
    "    if key == 113:\n",
    "        break\n",
    "        \n",
    "# Close image show window\n",
    "cv2.destroyAllWindows()"
   ]
  },
  {
   "cell_type": "code",
   "execution_count": null,
   "metadata": {},
   "outputs": [],
   "source": []
  }
 ],
 "metadata": {
  "kernelspec": {
   "display_name": "Python 3",
   "language": "python",
   "name": "python3"
  },
  "language_info": {
   "codemirror_mode": {
    "name": "ipython",
    "version": 3
   },
   "file_extension": ".py",
   "mimetype": "text/x-python",
   "name": "python",
   "nbconvert_exporter": "python",
   "pygments_lexer": "ipython3",
   "version": "3.6.8"
  }
 },
 "nbformat": 4,
 "nbformat_minor": 2
}
